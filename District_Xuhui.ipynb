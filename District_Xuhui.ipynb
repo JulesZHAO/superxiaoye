{
 "cells": [
  {
   "cell_type": "code",
   "execution_count": 1,
   "id": "831a3f25-af8c-46fa-90f6-5f8c781e83ac",
   "metadata": {},
   "outputs": [],
   "source": [
    "import pandas as pd\n",
    "import geopandas as gpd"
   ]
  },
  {
   "cell_type": "code",
   "execution_count": 2,
   "id": "617a6898-c6f2-4842-ac95-37714b4c7f3c",
   "metadata": {},
   "outputs": [],
   "source": [
    "df = pd.read_csv('shanghaiPOI2018.csv')"
   ]
  },
  {
   "cell_type": "code",
   "execution_count": 3,
   "id": "ecc7593b-155b-46a8-8a61-b054c0b15c9a",
   "metadata": {},
   "outputs": [
    {
     "data": {
      "text/html": [
       "<div>\n",
       "<style scoped>\n",
       "    .dataframe tbody tr th:only-of-type {\n",
       "        vertical-align: middle;\n",
       "    }\n",
       "\n",
       "    .dataframe tbody tr th {\n",
       "        vertical-align: top;\n",
       "    }\n",
       "\n",
       "    .dataframe thead th {\n",
       "        text-align: right;\n",
       "    }\n",
       "</style>\n",
       "<table border=\"1\" class=\"dataframe\">\n",
       "  <thead>\n",
       "    <tr style=\"text-align: right;\">\n",
       "      <th></th>\n",
       "      <th>name</th>\n",
       "      <th>type</th>\n",
       "      <th>tel</th>\n",
       "      <th>locationx</th>\n",
       "      <th>locationy</th>\n",
       "      <th>province</th>\n",
       "      <th>city</th>\n",
       "      <th>citycode</th>\n",
       "      <th>district</th>\n",
       "      <th>adcode</th>\n",
       "      <th>typecode</th>\n",
       "      <th>address</th>\n",
       "      <th>gpsx</th>\n",
       "      <th>gpsy</th>\n",
       "      <th>bdx</th>\n",
       "      <th>bdy</th>\n",
       "    </tr>\n",
       "  </thead>\n",
       "  <tbody>\n",
       "    <tr>\n",
       "      <th>0</th>\n",
       "      <td>东旺家苑(万镇路)</td>\n",
       "      <td>商务住宅;住宅区;住宅小区</td>\n",
       "      <td>[]</td>\n",
       "      <td>121.374797</td>\n",
       "      <td>31.243723</td>\n",
       "      <td>上海市</td>\n",
       "      <td>{}</td>\n",
       "      <td>21</td>\n",
       "      <td>普陀区</td>\n",
       "      <td>310107</td>\n",
       "      <td>120302</td>\n",
       "      <td>万镇路501弄1-37号</td>\n",
       "      <td>121.370163</td>\n",
       "      <td>31.245568</td>\n",
       "      <td>121.381402</td>\n",
       "      <td>31.249376</td>\n",
       "    </tr>\n",
       "    <tr>\n",
       "      <th>1</th>\n",
       "      <td>东旺家苑(东南门)</td>\n",
       "      <td>门</td>\n",
       "      <td>NaN</td>\n",
       "      <td>121.375528</td>\n",
       "      <td>31.244029</td>\n",
       "      <td>上海市</td>\n",
       "      <td>{}</td>\n",
       "      <td>21</td>\n",
       "      <td>普陀区</td>\n",
       "      <td>310107</td>\n",
       "      <td>NaN</td>\n",
       "      <td>万镇路501弄1-37号</td>\n",
       "      <td>121.370893</td>\n",
       "      <td>31.245873</td>\n",
       "      <td>121.382134</td>\n",
       "      <td>31.249679</td>\n",
       "    </tr>\n",
       "    <tr>\n",
       "      <th>2</th>\n",
       "      <td>东旺家苑(西南门)</td>\n",
       "      <td>门</td>\n",
       "      <td>NaN</td>\n",
       "      <td>121.374479</td>\n",
       "      <td>31.242821</td>\n",
       "      <td>上海市</td>\n",
       "      <td>{}</td>\n",
       "      <td>21</td>\n",
       "      <td>普陀区</td>\n",
       "      <td>310107</td>\n",
       "      <td>NaN</td>\n",
       "      <td>万镇路501弄-1-37号</td>\n",
       "      <td>121.369845</td>\n",
       "      <td>31.244667</td>\n",
       "      <td>121.381084</td>\n",
       "      <td>31.248476</td>\n",
       "    </tr>\n",
       "    <tr>\n",
       "      <th>3</th>\n",
       "      <td>龙庭公寓</td>\n",
       "      <td>商务住宅;住宅区;别墅</td>\n",
       "      <td>[]</td>\n",
       "      <td>121.378369</td>\n",
       "      <td>31.207133</td>\n",
       "      <td>上海市</td>\n",
       "      <td>{}</td>\n",
       "      <td>21</td>\n",
       "      <td>长宁区</td>\n",
       "      <td>310105</td>\n",
       "      <td>120301</td>\n",
       "      <td>仙霞路1088弄之1-21号</td>\n",
       "      <td>121.373733</td>\n",
       "      <td>31.208991</td>\n",
       "      <td>121.384969</td>\n",
       "      <td>31.212772</td>\n",
       "    </tr>\n",
       "    <tr>\n",
       "      <th>4</th>\n",
       "      <td>龙庭公寓(西南门)</td>\n",
       "      <td>门</td>\n",
       "      <td>NaN</td>\n",
       "      <td>121.377964</td>\n",
       "      <td>31.206951</td>\n",
       "      <td>上海市</td>\n",
       "      <td>{}</td>\n",
       "      <td>21</td>\n",
       "      <td>长宁区</td>\n",
       "      <td>310105</td>\n",
       "      <td>NaN</td>\n",
       "      <td>仙霞路1088弄1-21号</td>\n",
       "      <td>121.373329</td>\n",
       "      <td>31.208810</td>\n",
       "      <td>121.384564</td>\n",
       "      <td>31.212591</td>\n",
       "    </tr>\n",
       "  </tbody>\n",
       "</table>\n",
       "</div>"
      ],
      "text/plain": [
       "          name           type  tel   locationx  locationy province city  \\\n",
       "0    东旺家苑(万镇路)  商务住宅;住宅区;住宅小区   []  121.374797  31.243723      上海市   {}   \n",
       "1   东旺家苑(东南门)               门  NaN  121.375528  31.244029      上海市   {}   \n",
       "2   东旺家苑(西南门)               门  NaN  121.374479  31.242821      上海市   {}   \n",
       "3         龙庭公寓    商务住宅;住宅区;别墅   []  121.378369  31.207133      上海市   {}   \n",
       "4   龙庭公寓(西南门)               门  NaN  121.377964  31.206951      上海市   {}   \n",
       "\n",
       "   citycode district  adcode typecode          address        gpsx       gpsy  \\\n",
       "0        21      普陀区  310107   120302     万镇路501弄1-37号  121.370163  31.245568   \n",
       "1        21      普陀区  310107      NaN    万镇路501弄1-37号   121.370893  31.245873   \n",
       "2        21      普陀区  310107      NaN   万镇路501弄-1-37号   121.369845  31.244667   \n",
       "3        21      长宁区  310105   120301   仙霞路1088弄之1-21号  121.373733  31.208991   \n",
       "4        21      长宁区  310105      NaN   仙霞路1088弄1-21号   121.373329  31.208810   \n",
       "\n",
       "          bdx        bdy  \n",
       "0  121.381402  31.249376  \n",
       "1  121.382134  31.249679  \n",
       "2  121.381084  31.248476  \n",
       "3  121.384969  31.212772  \n",
       "4  121.384564  31.212591  "
      ]
     },
     "execution_count": 3,
     "metadata": {},
     "output_type": "execute_result"
    }
   ],
   "source": [
    "df.head()"
   ]
  },
  {
   "cell_type": "code",
   "execution_count": 8,
   "id": "33685274-0e49-47c4-bd31-c9042685a809",
   "metadata": {},
   "outputs": [
    {
     "name": "stdout",
     "output_type": "stream",
     "text": [
      "<class 'pandas.core.frame.DataFrame'>\n",
      "RangeIndex: 1988439 entries, 0 to 1988438\n",
      "Data columns (total 16 columns):\n",
      " #   Column     Dtype  \n",
      "---  ------     -----  \n",
      " 0   name       object \n",
      " 1   type       object \n",
      " 2   tel        object \n",
      " 3   locationx  float64\n",
      " 4   locationy  float64\n",
      " 5   province   object \n",
      " 6   city       object \n",
      " 7   citycode   int64  \n",
      " 8   district   object \n",
      " 9   adcode     int64  \n",
      " 10  typecode   object \n",
      " 11  address    object \n",
      " 12  gpsx       float64\n",
      " 13  gpsy       float64\n",
      " 14  bdx        float64\n",
      " 15  bdy        float64\n",
      "dtypes: float64(6), int64(2), object(8)\n",
      "memory usage: 242.7+ MB\n"
     ]
    }
   ],
   "source": [
    "df.info()"
   ]
  },
  {
   "cell_type": "code",
   "execution_count": 29,
   "id": "37d24561-d2b3-4211-bce0-82434b3640f3",
   "metadata": {
    "scrolled": true
   },
   "outputs": [],
   "source": [
    "df_district = df[df.district == '徐汇区']"
   ]
  },
  {
   "cell_type": "code",
   "execution_count": 25,
   "id": "b2525d0c-471c-43dc-a091-b5b062ce317d",
   "metadata": {},
   "outputs": [
    {
     "data": {
      "text/html": [
       "<div>\n",
       "<style scoped>\n",
       "    .dataframe tbody tr th:only-of-type {\n",
       "        vertical-align: middle;\n",
       "    }\n",
       "\n",
       "    .dataframe tbody tr th {\n",
       "        vertical-align: top;\n",
       "    }\n",
       "\n",
       "    .dataframe thead th {\n",
       "        text-align: right;\n",
       "    }\n",
       "</style>\n",
       "<table border=\"1\" class=\"dataframe\">\n",
       "  <thead>\n",
       "    <tr style=\"text-align: right;\">\n",
       "      <th></th>\n",
       "      <th>name</th>\n",
       "      <th>type</th>\n",
       "      <th>tel</th>\n",
       "      <th>locationx</th>\n",
       "      <th>locationy</th>\n",
       "      <th>province</th>\n",
       "      <th>city</th>\n",
       "      <th>citycode</th>\n",
       "      <th>district</th>\n",
       "      <th>adcode</th>\n",
       "      <th>typecode</th>\n",
       "      <th>address</th>\n",
       "      <th>gpsx</th>\n",
       "      <th>gpsy</th>\n",
       "      <th>bdx</th>\n",
       "      <th>bdy</th>\n",
       "    </tr>\n",
       "  </thead>\n",
       "  <tbody>\n",
       "    <tr>\n",
       "      <th>74480</th>\n",
       "      <td>龙柏社区卫生服务中心龙柏分中心</td>\n",
       "      <td>医疗保健服务;诊所;诊所</td>\n",
       "      <td>[]</td>\n",
       "      <td>121.364998</td>\n",
       "      <td>31.176474</td>\n",
       "      <td>上海市</td>\n",
       "      <td>{}</td>\n",
       "      <td>21</td>\n",
       "      <td>闵行区</td>\n",
       "      <td>310112</td>\n",
       "      <td>090300</td>\n",
       "      <td>虹桥镇青杉路250号</td>\n",
       "      <td>121.360384</td>\n",
       "      <td>31.178363</td>\n",
       "      <td>121.371546</td>\n",
       "      <td>31.182212</td>\n",
       "    </tr>\n",
       "    <tr>\n",
       "      <th>74488</th>\n",
       "      <td>上海市第一妇婴保健院-门诊部</td>\n",
       "      <td>医疗保健服务;诊所;诊所</td>\n",
       "      <td>[]</td>\n",
       "      <td>121.456197</td>\n",
       "      <td>31.220393</td>\n",
       "      <td>上海市</td>\n",
       "      <td>{}</td>\n",
       "      <td>21</td>\n",
       "      <td>静安区</td>\n",
       "      <td>310106</td>\n",
       "      <td>090300</td>\n",
       "      <td>长乐路536号</td>\n",
       "      <td>121.451622</td>\n",
       "      <td>31.222296</td>\n",
       "      <td>121.462652</td>\n",
       "      <td>31.226638</td>\n",
       "    </tr>\n",
       "    <tr>\n",
       "      <th>75753</th>\n",
       "      <td>上海市东方医院-肛肠科</td>\n",
       "      <td>医疗保健服务;诊所;诊所</td>\n",
       "      <td>[]</td>\n",
       "      <td>121.512960</td>\n",
       "      <td>31.237557</td>\n",
       "      <td>上海市</td>\n",
       "      <td>{}</td>\n",
       "      <td>21</td>\n",
       "      <td>浦东新区</td>\n",
       "      <td>310115</td>\n",
       "      <td>090300</td>\n",
       "      <td>墨路150号</td>\n",
       "      <td>121.508575</td>\n",
       "      <td>31.239611</td>\n",
       "      <td>121.519551</td>\n",
       "      <td>31.243278</td>\n",
       "    </tr>\n",
       "    <tr>\n",
       "      <th>79239</th>\n",
       "      <td>天之心中医皮肤科</td>\n",
       "      <td>医疗保健服务;诊所;诊所</td>\n",
       "      <td>021-62263111</td>\n",
       "      <td>121.438888</td>\n",
       "      <td>31.214486</td>\n",
       "      <td>上海市</td>\n",
       "      <td>{}</td>\n",
       "      <td>21</td>\n",
       "      <td>长宁区</td>\n",
       "      <td>310105</td>\n",
       "      <td>090300</td>\n",
       "      <td>华山路800弄丁香公寓6裙楼4楼(镇宁路口)</td>\n",
       "      <td>121.434274</td>\n",
       "      <td>31.216358</td>\n",
       "      <td>121.445308</td>\n",
       "      <td>31.220853</td>\n",
       "    </tr>\n",
       "    <tr>\n",
       "      <th>79499</th>\n",
       "      <td>口腔诊疗中心</td>\n",
       "      <td>医疗保健服务;诊所;诊所</td>\n",
       "      <td>021-68116377</td>\n",
       "      <td>121.576163</td>\n",
       "      <td>31.114829</td>\n",
       "      <td>上海市</td>\n",
       "      <td>{}</td>\n",
       "      <td>21</td>\n",
       "      <td>浦东新区</td>\n",
       "      <td>310115</td>\n",
       "      <td>090300</td>\n",
       "      <td>年家浜路372-1号附近</td>\n",
       "      <td>121.571955</td>\n",
       "      <td>31.117080</td>\n",
       "      <td>121.582620</td>\n",
       "      <td>31.121076</td>\n",
       "    </tr>\n",
       "    <tr>\n",
       "      <th>...</th>\n",
       "      <td>...</td>\n",
       "      <td>...</td>\n",
       "      <td>...</td>\n",
       "      <td>...</td>\n",
       "      <td>...</td>\n",
       "      <td>...</td>\n",
       "      <td>...</td>\n",
       "      <td>...</td>\n",
       "      <td>...</td>\n",
       "      <td>...</td>\n",
       "      <td>...</td>\n",
       "      <td>...</td>\n",
       "      <td>...</td>\n",
       "      <td>...</td>\n",
       "      <td>...</td>\n",
       "      <td>...</td>\n",
       "    </tr>\n",
       "    <tr>\n",
       "      <th>1984501</th>\n",
       "      <td>港沿镇建中村卫生室</td>\n",
       "      <td>医疗保健服务;诊所;诊所</td>\n",
       "      <td>{}</td>\n",
       "      <td>121.657780</td>\n",
       "      <td>31.557120</td>\n",
       "      <td>上海市</td>\n",
       "      <td>{}</td>\n",
       "      <td>21</td>\n",
       "      <td>崇明区</td>\n",
       "      <td>310151</td>\n",
       "      <td>090300</td>\n",
       "      <td>建中路附近</td>\n",
       "      <td>121.653490</td>\n",
       "      <td>31.559165</td>\n",
       "      <td>121.664240</td>\n",
       "      <td>31.563264</td>\n",
       "    </tr>\n",
       "    <tr>\n",
       "      <th>1984622</th>\n",
       "      <td>腰泾村中心卫生室</td>\n",
       "      <td>医疗保健服务;诊所;诊所</td>\n",
       "      <td>{}</td>\n",
       "      <td>121.177980</td>\n",
       "      <td>30.926371</td>\n",
       "      <td>上海市</td>\n",
       "      <td>{}</td>\n",
       "      <td>21</td>\n",
       "      <td>松江区</td>\n",
       "      <td>310117</td>\n",
       "      <td>090300</td>\n",
       "      <td>腰泾村161号</td>\n",
       "      <td>121.173494</td>\n",
       "      <td>30.928480</td>\n",
       "      <td>121.184423</td>\n",
       "      <td>30.932514</td>\n",
       "    </tr>\n",
       "    <tr>\n",
       "      <th>1986030</th>\n",
       "      <td>堡镇永和村中心卫生室</td>\n",
       "      <td>医疗保健服务;诊所;诊所</td>\n",
       "      <td>{}</td>\n",
       "      <td>121.553911</td>\n",
       "      <td>31.625202</td>\n",
       "      <td>上海市</td>\n",
       "      <td>{}</td>\n",
       "      <td>21</td>\n",
       "      <td>崇明区</td>\n",
       "      <td>310151</td>\n",
       "      <td>090300</td>\n",
       "      <td>北沿公路1417号附近</td>\n",
       "      <td>NaN</td>\n",
       "      <td>NaN</td>\n",
       "      <td>NaN</td>\n",
       "      <td>NaN</td>\n",
       "    </tr>\n",
       "    <tr>\n",
       "      <th>1987773</th>\n",
       "      <td>四川台湾糕点</td>\n",
       "      <td>餐饮服务;中餐厅;中餐厅</td>\n",
       "      <td>021-56666900</td>\n",
       "      <td>121.437419</td>\n",
       "      <td>31.191085</td>\n",
       "      <td>上海市</td>\n",
       "      <td>{}</td>\n",
       "      <td>21</td>\n",
       "      <td>徐汇区</td>\n",
       "      <td>310104</td>\n",
       "      <td>090300</td>\n",
       "      <td>仙霞西路297-18号</td>\n",
       "      <td>121.432804</td>\n",
       "      <td>31.192966</td>\n",
       "      <td>121.443818</td>\n",
       "      <td>31.197444</td>\n",
       "    </tr>\n",
       "    <tr>\n",
       "      <th>1988185</th>\n",
       "      <td>婉君生活馆(福都商厦)</td>\n",
       "      <td>购物服务;服装鞋帽皮具店;品牌服装店</td>\n",
       "      <td>{}</td>\n",
       "      <td>121.489327</td>\n",
       "      <td>31.224003</td>\n",
       "      <td>上海市</td>\n",
       "      <td>{}</td>\n",
       "      <td>21</td>\n",
       "      <td>黄浦区</td>\n",
       "      <td>310101</td>\n",
       "      <td>090300</td>\n",
       "      <td>人民路399号福都商厦F3层</td>\n",
       "      <td>121.484858</td>\n",
       "      <td>31.225993</td>\n",
       "      <td>121.495925</td>\n",
       "      <td>31.229699</td>\n",
       "    </tr>\n",
       "  </tbody>\n",
       "</table>\n",
       "<p>2667 rows × 16 columns</p>\n",
       "</div>"
      ],
      "text/plain": [
       "                    name                type           tel   locationx  \\\n",
       "74480    龙柏社区卫生服务中心龙柏分中心        医疗保健服务;诊所;诊所            []  121.364998   \n",
       "74488     上海市第一妇婴保健院-门诊部        医疗保健服务;诊所;诊所            []  121.456197   \n",
       "75753        上海市东方医院-肛肠科        医疗保健服务;诊所;诊所            []  121.512960   \n",
       "79239           天之心中医皮肤科        医疗保健服务;诊所;诊所  021-62263111  121.438888   \n",
       "79499             口腔诊疗中心        医疗保健服务;诊所;诊所  021-68116377  121.576163   \n",
       "...                  ...                 ...           ...         ...   \n",
       "1984501        港沿镇建中村卫生室        医疗保健服务;诊所;诊所            {}  121.657780   \n",
       "1984622         腰泾村中心卫生室        医疗保健服务;诊所;诊所            {}  121.177980   \n",
       "1986030       堡镇永和村中心卫生室        医疗保健服务;诊所;诊所            {}  121.553911   \n",
       "1987773           四川台湾糕点        餐饮服务;中餐厅;中餐厅  021-56666900  121.437419   \n",
       "1988185      婉君生活馆(福都商厦)  购物服务;服装鞋帽皮具店;品牌服装店            {}  121.489327   \n",
       "\n",
       "         locationy province city  citycode district  adcode typecode  \\\n",
       "74480    31.176474      上海市   {}        21      闵行区  310112   090300   \n",
       "74488    31.220393      上海市   {}        21      静安区  310106   090300   \n",
       "75753    31.237557      上海市   {}        21     浦东新区  310115   090300   \n",
       "79239    31.214486      上海市   {}        21      长宁区  310105   090300   \n",
       "79499    31.114829      上海市   {}        21     浦东新区  310115   090300   \n",
       "...            ...      ...  ...       ...      ...     ...      ...   \n",
       "1984501  31.557120      上海市   {}        21      崇明区  310151   090300   \n",
       "1984622  30.926371      上海市   {}        21      松江区  310117   090300   \n",
       "1986030  31.625202      上海市   {}        21      崇明区  310151   090300   \n",
       "1987773  31.191085      上海市   {}        21      徐汇区  310104   090300   \n",
       "1988185  31.224003      上海市   {}        21      黄浦区  310101   090300   \n",
       "\n",
       "                        address        gpsx       gpsy         bdx        bdy  \n",
       "74480                虹桥镇青杉路250号  121.360384  31.178363  121.371546  31.182212  \n",
       "74488                   长乐路536号  121.451622  31.222296  121.462652  31.226638  \n",
       "75753                    墨路150号  121.508575  31.239611  121.519551  31.243278  \n",
       "79239    华山路800弄丁香公寓6裙楼4楼(镇宁路口)  121.434274  31.216358  121.445308  31.220853  \n",
       "79499              年家浜路372-1号附近  121.571955  31.117080  121.582620  31.121076  \n",
       "...                         ...         ...        ...         ...        ...  \n",
       "1984501                   建中路附近  121.653490  31.559165  121.664240  31.563264  \n",
       "1984622                 腰泾村161号  121.173494  30.928480  121.184423  30.932514  \n",
       "1986030             北沿公路1417号附近         NaN        NaN         NaN        NaN  \n",
       "1987773             仙霞西路297-18号  121.432804  31.192966  121.443818  31.197444  \n",
       "1988185          人民路399号福都商厦F3层  121.484858  31.225993  121.495925  31.229699  \n",
       "\n",
       "[2667 rows x 16 columns]"
      ]
     },
     "execution_count": 25,
     "metadata": {},
     "output_type": "execute_result"
    }
   ],
   "source": [
    "df[df.typecode == '090300']"
   ]
  },
  {
   "cell_type": "code",
   "execution_count": 30,
   "id": "cc3dcef4-ba98-4710-aa7b-8286daeb3c0c",
   "metadata": {},
   "outputs": [],
   "source": [
    "df_district_clean = df_district[df_district.typecode.notna()]"
   ]
  },
  {
   "cell_type": "code",
   "execution_count": 32,
   "id": "c47631eb-91dd-4e22-9eac-6f15ac3dc8d5",
   "metadata": {},
   "outputs": [
    {
     "name": "stdout",
     "output_type": "stream",
     "text": [
      "<class 'pandas.core.frame.DataFrame'>\n",
      "Index: 107739 entries, 57 to 1988358\n",
      "Data columns (total 16 columns):\n",
      " #   Column     Non-Null Count   Dtype  \n",
      "---  ------     --------------   -----  \n",
      " 0   name       107739 non-null  object \n",
      " 1   type       107739 non-null  object \n",
      " 2   tel        107739 non-null  object \n",
      " 3   locationx  107739 non-null  float64\n",
      " 4   locationy  107739 non-null  float64\n",
      " 5   province   107739 non-null  object \n",
      " 6   city       107739 non-null  object \n",
      " 7   citycode   107739 non-null  int64  \n",
      " 8   district   107739 non-null  object \n",
      " 9   adcode     107739 non-null  int64  \n",
      " 10  typecode   107739 non-null  object \n",
      " 11  address    107739 non-null  object \n",
      " 12  gpsx       107552 non-null  float64\n",
      " 13  gpsy       107552 non-null  float64\n",
      " 14  bdx        107552 non-null  float64\n",
      " 15  bdy        107552 non-null  float64\n",
      "dtypes: float64(6), int64(2), object(8)\n",
      "memory usage: 14.0+ MB\n"
     ]
    }
   ],
   "source": [
    "df_district_clean.info()"
   ]
  },
  {
   "cell_type": "code",
   "execution_count": 39,
   "id": "6db11b70-302b-4899-b163-bef5c5b7024e",
   "metadata": {},
   "outputs": [],
   "source": [
    "hospitals = df_district_clean[df_district_clean.typecode.str.startswith('09')]\n"
   ]
  },
  {
   "cell_type": "code",
   "execution_count": 40,
   "id": "95c3dbc0-4132-4e1d-9e41-3700a0484b7d",
   "metadata": {},
   "outputs": [
    {
     "name": "stdout",
     "output_type": "stream",
     "text": [
      "<class 'pandas.core.frame.DataFrame'>\n",
      "Index: 1676 entries, 74092 to 1987773\n",
      "Data columns (total 16 columns):\n",
      " #   Column     Non-Null Count  Dtype  \n",
      "---  ------     --------------  -----  \n",
      " 0   name       1676 non-null   object \n",
      " 1   type       1676 non-null   object \n",
      " 2   tel        1676 non-null   object \n",
      " 3   locationx  1676 non-null   float64\n",
      " 4   locationy  1676 non-null   float64\n",
      " 5   province   1676 non-null   object \n",
      " 6   city       1676 non-null   object \n",
      " 7   citycode   1676 non-null   int64  \n",
      " 8   district   1676 non-null   object \n",
      " 9   adcode     1676 non-null   int64  \n",
      " 10  typecode   1676 non-null   object \n",
      " 11  address    1676 non-null   object \n",
      " 12  gpsx       1675 non-null   float64\n",
      " 13  gpsy       1675 non-null   float64\n",
      " 14  bdx        1675 non-null   float64\n",
      " 15  bdy        1675 non-null   float64\n",
      "dtypes: float64(6), int64(2), object(8)\n",
      "memory usage: 222.6+ KB\n"
     ]
    }
   ],
   "source": [
    "hospitals.info()"
   ]
  },
  {
   "cell_type": "code",
   "execution_count": 53,
   "id": "b9e8df39-cb24-478b-81a1-e1875509dcf8",
   "metadata": {},
   "outputs": [],
   "source": [
    "gdf = gpd.GeoDataFrame(hospitals,geometry=gpd.points_from_xy(\n",
    "    hospitals.locationx,hospitals.locationy\n",
    "))"
   ]
  },
  {
   "cell_type": "code",
   "execution_count": 46,
   "id": "633397fc-0636-4d67-87d8-bac1530b5ec2",
   "metadata": {},
   "outputs": [
    {
     "data": {
      "text/plain": [
       "<Axes: >"
      ]
     },
     "execution_count": 46,
     "metadata": {},
     "output_type": "execute_result"
    },
    {
     "data": {
      "image/png": "[encoded data removed]",
      "text/plain": [
       "<Figure size 640x480 with 1 Axes>"
      ]
     },
     "metadata": {},
     "output_type": "display_data"
    }
   ],
   "source": [
    "gdf.plot()"
   ]
  },
  {
   "cell_type": "code",
   "execution_count": 19,
   "id": "8cb3d4d1-cee6-4082-a794-4bd0f479d3e9",
   "metadata": {},
   "outputs": [
    {
     "name": "stdout",
     "output_type": "stream",
     "text": [
      "<class 'pandas.core.frame.DataFrame'>\n",
      "Index: 114864 entries, 57 to 1988358\n",
      "Data columns (total 16 columns):\n",
      " #   Column     Non-Null Count   Dtype  \n",
      "---  ------     --------------   -----  \n",
      " 0   name       114864 non-null  object \n",
      " 1   type       114864 non-null  object \n",
      " 2   tel        107740 non-null  object \n",
      " 3   locationx  114864 non-null  float64\n",
      " 4   locationy  114864 non-null  float64\n",
      " 5   province   114864 non-null  object \n",
      " 6   city       114864 non-null  object \n",
      " 7   citycode   114864 non-null  int64  \n",
      " 8   district   114864 non-null  object \n",
      " 9   adcode     114864 non-null  int64  \n",
      " 10  typecode   107739 non-null  object \n",
      " 11  address    114864 non-null  object \n",
      " 12  gpsx       114644 non-null  float64\n",
      " 13  gpsy       114644 non-null  float64\n",
      " 14  bdx        114644 non-null  float64\n",
      " 15  bdy        114644 non-null  float64\n",
      "dtypes: float64(6), int64(2), object(8)\n",
      "memory usage: 14.9+ MB\n"
     ]
    }
   ],
   "source": [
    "df_distrct.info()"
   ]
  },
  {
   "cell_type": "code",
   "execution_count": 47,
   "id": "55a0067a-ee83-4eac-b99a-33ba2ca80e57",
   "metadata": {
    "scrolled": true
   },
   "outputs": [
    {
     "data": {
      "text/html": [
       "<div>\n",
       "<style scoped>\n",
       "    .dataframe tbody tr th:only-of-type {\n",
       "        vertical-align: middle;\n",
       "    }\n",
       "\n",
       "    .dataframe tbody tr th {\n",
       "        vertical-align: top;\n",
       "    }\n",
       "\n",
       "    .dataframe thead th {\n",
       "        text-align: right;\n",
       "    }\n",
       "</style>\n",
       "<table border=\"1\" class=\"dataframe\">\n",
       "  <thead>\n",
       "    <tr style=\"text-align: right;\">\n",
       "      <th></th>\n",
       "      <th>locationx</th>\n",
       "      <th>locationy</th>\n",
       "      <th>citycode</th>\n",
       "      <th>adcode</th>\n",
       "      <th>gpsx</th>\n",
       "      <th>gpsy</th>\n",
       "      <th>bdx</th>\n",
       "      <th>bdy</th>\n",
       "    </tr>\n",
       "  </thead>\n",
       "  <tbody>\n",
       "    <tr>\n",
       "      <th>count</th>\n",
       "      <td>1.988439e+06</td>\n",
       "      <td>1.988439e+06</td>\n",
       "      <td>1.988439e+06</td>\n",
       "      <td>1.988439e+06</td>\n",
       "      <td>1.985847e+06</td>\n",
       "      <td>1.985847e+06</td>\n",
       "      <td>1.985847e+06</td>\n",
       "      <td>1.985847e+06</td>\n",
       "    </tr>\n",
       "    <tr>\n",
       "      <th>mean</th>\n",
       "      <td>1.214398e+02</td>\n",
       "      <td>3.118985e+01</td>\n",
       "      <td>2.100148e+01</td>\n",
       "      <td>3.101128e+05</td>\n",
       "      <td>1.214354e+02</td>\n",
       "      <td>3.119184e+01</td>\n",
       "      <td>1.214463e+02</td>\n",
       "      <td>3.119584e+01</td>\n",
       "    </tr>\n",
       "    <tr>\n",
       "      <th>std</th>\n",
       "      <td>1.453235e-01</td>\n",
       "      <td>1.459608e-01</td>\n",
       "      <td>8.529046e-01</td>\n",
       "      <td>1.952530e+01</td>\n",
       "      <td>1.454030e-01</td>\n",
       "      <td>1.458792e-01</td>\n",
       "      <td>1.453267e-01</td>\n",
       "      <td>1.459368e-01</td>\n",
       "    </tr>\n",
       "    <tr>\n",
       "      <th>min</th>\n",
       "      <td>1.208641e+02</td>\n",
       "      <td>3.068077e+01</td>\n",
       "      <td>2.100000e+01</td>\n",
       "      <td>3.100000e+05</td>\n",
       "      <td>1.208599e+02</td>\n",
       "      <td>3.068292e+01</td>\n",
       "      <td>1.208705e+02</td>\n",
       "      <td>3.068705e+01</td>\n",
       "    </tr>\n",
       "    <tr>\n",
       "      <th>25%</th>\n",
       "      <td>1.213624e+02</td>\n",
       "      <td>3.112649e+01</td>\n",
       "      <td>2.100000e+01</td>\n",
       "      <td>3.101070e+05</td>\n",
       "      <td>1.213578e+02</td>\n",
       "      <td>3.112850e+01</td>\n",
       "      <td>1.213690e+02</td>\n",
       "      <td>3.113257e+01</td>\n",
       "    </tr>\n",
       "    <tr>\n",
       "      <th>50%</th>\n",
       "      <td>1.214447e+02</td>\n",
       "      <td>3.121286e+01</td>\n",
       "      <td>2.100000e+01</td>\n",
       "      <td>3.101130e+05</td>\n",
       "      <td>1.214401e+02</td>\n",
       "      <td>3.121479e+01</td>\n",
       "      <td>1.214511e+02</td>\n",
       "      <td>3.121888e+01</td>\n",
       "    </tr>\n",
       "    <tr>\n",
       "      <th>75%</th>\n",
       "      <td>1.215170e+02</td>\n",
       "      <td>3.127109e+01</td>\n",
       "      <td>2.100000e+01</td>\n",
       "      <td>3.101150e+05</td>\n",
       "      <td>1.215126e+02</td>\n",
       "      <td>3.127309e+01</td>\n",
       "      <td>1.215235e+02</td>\n",
       "      <td>3.127710e+01</td>\n",
       "    </tr>\n",
       "    <tr>\n",
       "      <th>max</th>\n",
       "      <td>1.222442e+02</td>\n",
       "      <td>3.186619e+01</td>\n",
       "      <td>5.120000e+02</td>\n",
       "      <td>3.205830e+05</td>\n",
       "      <td>1.222400e+02</td>\n",
       "      <td>3.186807e+01</td>\n",
       "      <td>1.222507e+02</td>\n",
       "      <td>3.187254e+01</td>\n",
       "    </tr>\n",
       "  </tbody>\n",
       "</table>\n",
       "</div>"
      ],
      "text/plain": [
       "          locationx     locationy      citycode        adcode          gpsx  \\\n",
       "count  1.988439e+06  1.988439e+06  1.988439e+06  1.988439e+06  1.985847e+06   \n",
       "mean   1.214398e+02  3.118985e+01  2.100148e+01  3.101128e+05  1.214354e+02   \n",
       "std    1.453235e-01  1.459608e-01  8.529046e-01  1.952530e+01  1.454030e-01   \n",
       "min    1.208641e+02  3.068077e+01  2.100000e+01  3.100000e+05  1.208599e+02   \n",
       "25%    1.213624e+02  3.112649e+01  2.100000e+01  3.101070e+05  1.213578e+02   \n",
       "50%    1.214447e+02  3.121286e+01  2.100000e+01  3.101130e+05  1.214401e+02   \n",
       "75%    1.215170e+02  3.127109e+01  2.100000e+01  3.101150e+05  1.215126e+02   \n",
       "max    1.222442e+02  3.186619e+01  5.120000e+02  3.205830e+05  1.222400e+02   \n",
       "\n",
       "               gpsy           bdx           bdy  \n",
       "count  1.985847e+06  1.985847e+06  1.985847e+06  \n",
       "mean   3.119184e+01  1.214463e+02  3.119584e+01  \n",
       "std    1.458792e-01  1.453267e-01  1.459368e-01  \n",
       "min    3.068292e+01  1.208705e+02  3.068705e+01  \n",
       "25%    3.112850e+01  1.213690e+02  3.113257e+01  \n",
       "50%    3.121479e+01  1.214511e+02  3.121888e+01  \n",
       "75%    3.127309e+01  1.215235e+02  3.127710e+01  \n",
       "max    3.186807e+01  1.222507e+02  3.187254e+01  "
      ]
     },
     "execution_count": 47,
     "metadata": {},
     "output_type": "execute_result"
    }
   ],
   "source": [
    "df.describe()"
   ]
  },
  {
   "cell_type": "code",
   "execution_count": 48,
   "id": "0448e5fa-980d-4b07-9453-a24155d30d30",
   "metadata": {},
   "outputs": [],
   "source": [
    "districts = gpd.read_file('sh-province-district.geojson')"
   ]
  },
  {
   "cell_type": "code",
   "execution_count": 60,
   "id": "e9977099-d2cd-4901-bdfa-39750699950c",
   "metadata": {},
   "outputs": [
    {
     "data": {
      "text/plain": [
       "<Axes: >"
      ]
     },
     "execution_count": 60,
     "metadata": {},
     "output_type": "execute_result"
    },
    {
     "data": {
      "image/png": "[encoded data removed]",
      "text/plain": [
       "<Figure size 640x480 with 1 Axes>"
      ]
     },
     "metadata": {},
     "output_type": "display_data"
    }
   ],
   "source": [
    "import matplotlib.pyplot as plt\n",
    "fig,ax = plt.subplots()\n",
    "\n",
    "districts[districts.name == '徐汇区'].plot(color='lightgrey',ax=ax)\n",
    "gdf.plot(markersize=2.4,color='black',ax=ax)"
   ]
  },
  {
   "cell_type": "code",
   "execution_count": 49,
   "id": "08c6040a-8128-4d7a-bb80-eac519839030",
   "metadata": {},
   "outputs": [
    {
     "data": {
      "text/plain": [
       "<Axes: >"
      ]
     },
     "execution_count": 49,
     "metadata": {},
     "output_type": "execute_result"
    },
    {
     "data": {
      "image/png": "[encoded data removed]",
      "text/plain": [
       "<Figure size 640x480 with 1 Axes>"
      ]
     },
     "metadata": {},
     "output_type": "display_data"
    }
   ],
   "source": [
    "districts.plot()"
   ]
  },
  {
   "cell_type": "code",
   "execution_count": 61,
   "id": "ba801eb1-6b0e-4fde-ab20-2e49fcc2ec65",
   "metadata": {},
   "outputs": [],
   "source": [
    "from scipy.spatial import voronoi_plot_2d, Voronoi\n",
    "import shapely"
   ]
  },
  {
   "cell_type": "code",
   "execution_count": 62,
   "id": "87d91b7d-06ad-4a29-98c7-3369f21839da",
   "metadata": {},
   "outputs": [
    {
     "data": {
      "text/plain": [
       "(121.449135, 31.187464)"
      ]
     },
     "execution_count": 62,
     "metadata": {},
     "output_type": "execute_result"
    }
   ],
   "source": [
    "xs = gdf.geometry.centroid.x\n",
    "ys = gdf.geometry.centroid.y\n",
    "coords = list(zip(xs,ys))\n",
    "coords[0]"
   ]
  },
  {
   "cell_type": "code",
   "execution_count": 63,
   "id": "6a801399-91fb-4402-93f3-48c9516ab90a",
   "metadata": {},
   "outputs": [
    {
     "name": "stdout",
     "output_type": "stream",
     "text": [
      "4678\n"
     ]
    }
   ],
   "source": [
    "vor = Voronoi(coords)\n",
    "lines = [\n",
    "    shapely.geometry.LineString(vor.vertices[line])\n",
    "    for line in vor.ridge_vertices\n",
    "    if -1 not in line\n",
    "]\n",
    "print(len(lines))"
   ]
  },
  {
   "cell_type": "code",
   "execution_count": 64,
   "id": "a13126a8-fec9-42df-95e0-7cccf58f75e2",
   "metadata": {},
   "outputs": [],
   "source": [
    "gdf_tsl = gpd.GeoDataFrame(shapely.ops.polygonize(lines),columns=['geometry'])"
   ]
  },
  {
   "cell_type": "code",
   "execution_count": 66,
   "id": "fa610938-0d8c-4dd8-b73b-936790d72e84",
   "metadata": {},
   "outputs": [],
   "source": [
    "gdf_tsl = gdf_tsl.cx[121.32:121.46,31.20:31.31]"
   ]
  },
  {
   "cell_type": "code",
   "execution_count": 67,
   "id": "f38d75c1-5ec1-4802-837f-01e585f60e17",
   "metadata": {},
   "outputs": [
    {
     "data": {
      "text/plain": [
       "<Axes: >"
      ]
     },
     "execution_count": 67,
     "metadata": {},
     "output_type": "execute_result"
    },
    {
     "data": {
      "image/png": "[encoded data removed]",
      "text/plain": [
       "<Figure size 640x480 with 1 Axes>"
      ]
     },
     "metadata": {},
     "output_type": "display_data"
    }
   ],
   "source": [
    "fig,ax = plt.subplots(1,1)\n",
    "\n",
    "gdf_tsl.plot(linewidth=0.01,color='black',figsize=(20,20),ax=ax)"
   ]
  },
  {
   "cell_type": "code",
   "execution_count": null,
   "id": "07b06f69-52cb-4449-afa9-da90595c4434",
   "metadata": {},
   "outputs": [],
   "source": []
  }
 ],
 "metadata": {
  "kernelspec": {
   "display_name": "Python 3 (ipykernel)",
   "language": "python",
   "name": "python3"
  },
  "language_info": {
   "codemirror_mode": {
    "name": "ipython",
    "version": 3
   },
   "file_extension": ".py",
   "mimetype": "text/x-python",
   "name": "python",
   "nbconvert_exporter": "python",
   "pygments_lexer": "ipython3",
   "version": "3.11.0"
  }
 },
 "nbformat": 4,
 "nbformat_minor": 5
}
